{
 "cells": [
  {
   "cell_type": "markdown",
   "metadata": {},
   "source": [
    "# Introduction to Database Indexing\n",
    "## Introduction\n",
    "In this lesson, we'll go over and learn how to apply database indexes.\n",
    "## Objectives\n",
    "- Learn how database indexes help query performance"
   ]
  },
  {
   "cell_type": "markdown",
   "metadata": {},
   "source": [
    "### What are database indexes?\n",
    "\n",
    "Indexes are an abstraction used in the background of a database to speed up querying. Indexes reduce query runtime by providing a way to quickly look up the requested data. A table can have one or more indexes associated with it. An index is defined by a field, usually on a foreign key.\n",
    "\n",
    "### Why are indexes needed?\n",
    "\n",
    "Imagine you have a table with millions rows - searching for a single row, like `SELECT * FROM table WHERE emp_id = 'E104592VK'` would take a full table scan. But if you have the `emp_id` field as an index, the driver would be able to find this row very quickly. It is important to note that you only want to index few columns that you may search over multiple times instead of creating indexes for all columns. Think of it as instead of doing a full scan, you apply `WHERE` clause on an index, like a phone book or a dictionary, where you can think of the alphabet as an index, then you can search the word faster.\n",
    "\n",
    "### How are indexes created?\n",
    "\n",
    "The syntax for creating an index will vary depending on the database, but typically looks like this:\n",
    "```\n",
    "CREATE INDEX <index_name>\n",
    "ON <table_name> (column1, column2, ...)\n",
    "```\n",
    "\n",
    "For example, if we want to create an index on `employee` table, we can do something like this:\n",
    "\n",
    "```\n",
    "CREATE INDEX employee_idx\n",
    "ON employee (emp_id)\n",
    "```\n",
    "\n",
    "Keep in mind, the indexes are just abstractions so it's not visible to the users.\n",
    "\n",
    "### Indexes sound amazing all around.. what's the downside?\n",
    "\n",
    "Inserting/Deleting/Updating records for tables that have indexes will have decreased query performance. The indexes are created to really speed up the search, but not the other operations. So a thoughtful design process is required when adding or removing indexes from a table.\n"
   ]
  },
  {
   "cell_type": "markdown",
   "metadata": {},
   "source": [
    "### Summary\n",
    "\n",
    "We discussed why we may need an index and how to create them. We also discussed the downside of creating the index."
   ]
  }
 ],
 "metadata": {
  "kernelspec": {
   "display_name": "Python 3",
   "language": "python",
   "name": "python3"
  },
  "language_info": {
   "codemirror_mode": {
    "name": "ipython",
    "version": 3
   },
   "file_extension": ".py",
   "mimetype": "text/x-python",
   "name": "python",
   "nbconvert_exporter": "python",
   "pygments_lexer": "ipython3",
   "version": "3.8.5"
  }
 },
 "nbformat": 4,
 "nbformat_minor": 4
}
